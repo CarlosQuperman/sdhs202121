{
  "nbformat": 4,
  "nbformat_minor": 0,
  "metadata": {
    "colab": {
      "name": "Pytorch와 Fastai를 이용한 분류 모델 만들기 - 데이터 수집까지",
      "provenance": [],
      "collapsed_sections": []
    },
    "kernelspec": {
      "name": "python3",
      "display_name": "Python 3"
    },
    "language_info": {
      "name": "python"
    },
    "accelerator": "GPU"
  },
  "cells": [
    {
      "cell_type": "markdown",
      "metadata": {
        "id": "ZdHePuOp1u-5"
      },
      "source": [
        "### 필요한 라이브러리와 폰트 설치\n",
        "\n",
        "* 파이선에서는 특정 목적을 위해 사용할 수 있는 다양한 도구들의 집합인 라이브러리를 제공한다!\n",
        "* 일단 필요한 라이브러리를 설치하고 \n",
        "* 한글 폰트 출력을 위한 폰트 설치 역시 진행해보자.\n",
        "* 그 전에 제일 먼저 해야 할 일은 런타임 -> 런타임 유형 변경 -> 하드웨어 가속 -> None을 GPU로 바꿔보자!\n",
        "* AI 학습에는 GPU 그래픽 카드의 성능이 중요하다!"
      ]
    },
    {
      "cell_type": "code",
      "metadata": {
        "id": "QZvOS7bC1pmW",
        "colab": {
          "base_uri": "https://localhost:8080/"
        },
        "outputId": "c8d8db6d-5332-40b1-eef4-3d594c101c77"
      },
      "source": [
        "#fastai2 라이브러리 설치\n",
        "!pip install fastai2"
      ],
      "execution_count": null,
      "outputs": [
        {
          "output_type": "stream",
          "name": "stdout",
          "text": [
            "Requirement already satisfied: fastai2 in /usr/local/lib/python3.7/dist-packages (0.0.30)\n",
            "Requirement already satisfied: requests in /usr/local/lib/python3.7/dist-packages (from fastai2) (2.23.0)\n",
            "Requirement already satisfied: pyyaml in /usr/local/lib/python3.7/dist-packages (from fastai2) (3.13)\n",
            "Requirement already satisfied: fastprogress>=0.2.4 in /usr/local/lib/python3.7/dist-packages (from fastai2) (1.0.0)\n",
            "Requirement already satisfied: spacy in /usr/local/lib/python3.7/dist-packages (from fastai2) (2.2.4)\n",
            "Requirement already satisfied: torch>=1.6.0 in /usr/local/lib/python3.7/dist-packages (from fastai2) (1.10.0+cu111)\n",
            "Requirement already satisfied: pip in /usr/local/lib/python3.7/dist-packages (from fastai2) (21.1.3)\n",
            "Requirement already satisfied: pandas in /usr/local/lib/python3.7/dist-packages (from fastai2) (1.1.5)\n",
            "Requirement already satisfied: matplotlib in /usr/local/lib/python3.7/dist-packages (from fastai2) (3.2.2)\n",
            "Requirement already satisfied: fastcore>=0.1.34 in /usr/local/lib/python3.7/dist-packages (from fastai2) (1.3.27)\n",
            "Requirement already satisfied: scipy in /usr/local/lib/python3.7/dist-packages (from fastai2) (1.4.1)\n",
            "Requirement already satisfied: pillow in /usr/local/lib/python3.7/dist-packages (from fastai2) (7.1.2)\n",
            "Requirement already satisfied: torchvision>=0.7 in /usr/local/lib/python3.7/dist-packages (from fastai2) (0.11.1+cu111)\n",
            "Requirement already satisfied: packaging in /usr/local/lib/python3.7/dist-packages (from fastai2) (21.3)\n",
            "Requirement already satisfied: scikit-learn in /usr/local/lib/python3.7/dist-packages (from fastai2) (1.0.1)\n",
            "Requirement already satisfied: numpy in /usr/local/lib/python3.7/dist-packages (from fastprogress>=0.2.4->fastai2) (1.19.5)\n",
            "Requirement already satisfied: typing-extensions in /usr/local/lib/python3.7/dist-packages (from torch>=1.6.0->fastai2) (3.10.0.2)\n",
            "Requirement already satisfied: pyparsing!=2.0.4,!=2.1.2,!=2.1.6,>=2.0.1 in /usr/local/lib/python3.7/dist-packages (from matplotlib->fastai2) (3.0.6)\n",
            "Requirement already satisfied: python-dateutil>=2.1 in /usr/local/lib/python3.7/dist-packages (from matplotlib->fastai2) (2.8.2)\n",
            "Requirement already satisfied: cycler>=0.10 in /usr/local/lib/python3.7/dist-packages (from matplotlib->fastai2) (0.11.0)\n",
            "Requirement already satisfied: kiwisolver>=1.0.1 in /usr/local/lib/python3.7/dist-packages (from matplotlib->fastai2) (1.3.2)\n",
            "Requirement already satisfied: six>=1.5 in /usr/local/lib/python3.7/dist-packages (from python-dateutil>=2.1->matplotlib->fastai2) (1.15.0)\n",
            "Requirement already satisfied: pytz>=2017.2 in /usr/local/lib/python3.7/dist-packages (from pandas->fastai2) (2018.9)\n",
            "Requirement already satisfied: urllib3!=1.25.0,!=1.25.1,<1.26,>=1.21.1 in /usr/local/lib/python3.7/dist-packages (from requests->fastai2) (1.24.3)\n",
            "Requirement already satisfied: chardet<4,>=3.0.2 in /usr/local/lib/python3.7/dist-packages (from requests->fastai2) (3.0.4)\n",
            "Requirement already satisfied: certifi>=2017.4.17 in /usr/local/lib/python3.7/dist-packages (from requests->fastai2) (2021.10.8)\n",
            "Requirement already satisfied: idna<3,>=2.5 in /usr/local/lib/python3.7/dist-packages (from requests->fastai2) (2.10)\n",
            "Requirement already satisfied: threadpoolctl>=2.0.0 in /usr/local/lib/python3.7/dist-packages (from scikit-learn->fastai2) (3.0.0)\n",
            "Requirement already satisfied: joblib>=0.11 in /usr/local/lib/python3.7/dist-packages (from scikit-learn->fastai2) (1.1.0)\n",
            "Requirement already satisfied: wasabi<1.1.0,>=0.4.0 in /usr/local/lib/python3.7/dist-packages (from spacy->fastai2) (0.8.2)\n",
            "Requirement already satisfied: catalogue<1.1.0,>=0.0.7 in /usr/local/lib/python3.7/dist-packages (from spacy->fastai2) (1.0.0)\n",
            "Requirement already satisfied: srsly<1.1.0,>=1.0.2 in /usr/local/lib/python3.7/dist-packages (from spacy->fastai2) (1.0.5)\n",
            "Requirement already satisfied: blis<0.5.0,>=0.4.0 in /usr/local/lib/python3.7/dist-packages (from spacy->fastai2) (0.4.1)\n",
            "Requirement already satisfied: cymem<2.1.0,>=2.0.2 in /usr/local/lib/python3.7/dist-packages (from spacy->fastai2) (2.0.6)\n",
            "Requirement already satisfied: tqdm<5.0.0,>=4.38.0 in /usr/local/lib/python3.7/dist-packages (from spacy->fastai2) (4.62.3)\n",
            "Requirement already satisfied: thinc==7.4.0 in /usr/local/lib/python3.7/dist-packages (from spacy->fastai2) (7.4.0)\n",
            "Requirement already satisfied: plac<1.2.0,>=0.9.6 in /usr/local/lib/python3.7/dist-packages (from spacy->fastai2) (1.1.3)\n",
            "Requirement already satisfied: preshed<3.1.0,>=3.0.2 in /usr/local/lib/python3.7/dist-packages (from spacy->fastai2) (3.0.6)\n",
            "Requirement already satisfied: setuptools in /usr/local/lib/python3.7/dist-packages (from spacy->fastai2) (57.4.0)\n",
            "Requirement already satisfied: murmurhash<1.1.0,>=0.28.0 in /usr/local/lib/python3.7/dist-packages (from spacy->fastai2) (1.0.6)\n",
            "Requirement already satisfied: importlib-metadata>=0.20 in /usr/local/lib/python3.7/dist-packages (from catalogue<1.1.0,>=0.0.7->spacy->fastai2) (4.8.2)\n",
            "Requirement already satisfied: zipp>=0.5 in /usr/local/lib/python3.7/dist-packages (from importlib-metadata>=0.20->catalogue<1.1.0,>=0.0.7->spacy->fastai2) (3.6.0)\n"
          ]
        }
      ]
    },
    {
      "cell_type": "code",
      "metadata": {
        "id": "Uz4q2eDH2JWq",
        "colab": {
          "base_uri": "https://localhost:8080/"
        },
        "outputId": "3e58510e-0ecc-41af-c78e-0360521f796a"
      },
      "source": [
        "# 한글 나눔 폰트 설치\n",
        "!apt -qq -y install fonts-nanum"
      ],
      "execution_count": null,
      "outputs": [
        {
          "output_type": "stream",
          "name": "stdout",
          "text": [
            "fonts-nanum is already the newest version (20170925-1).\n",
            "0 upgraded, 0 newly installed, 0 to remove and 37 not upgraded.\n"
          ]
        }
      ]
    },
    {
      "cell_type": "code",
      "metadata": {
        "id": "EnDJ6-is2L-X"
      },
      "source": [
        "# 폰트 경로 설정 \n",
        "import matplotlib.pyplot as plt\n",
        "import matplotlib.font_manager as fm\n",
        "\n",
        "fontpath = '/usr/share/fonts/truetype/nanum/NanumGothic.ttf'\n",
        "font = fm.FontProperties(fname=fontpath, size=10)\n",
        "fm._rebuild()\n",
        "# 위 코드 실행 후 [메뉴] - [런타임] - [런타임 다시 시작] - [예]"
      ],
      "execution_count": null,
      "outputs": []
    },
    {
      "cell_type": "code",
      "metadata": {
        "id": "SwdxOQKD2QGq"
      },
      "source": [
        "# 폰트 설정import matplotlib.pyplot as plt\n",
        "plt.rc('font', family='NanumGothic') "
      ],
      "execution_count": null,
      "outputs": []
    },
    {
      "cell_type": "code",
      "metadata": {
        "id": "99PriZQR2SvH"
      },
      "source": [
        "#fastbook 라이브러리 설정\n",
        "#우리가 맨날 사용했던 구글 드라이브 접근 코드와 권한은 비슷하다!\n",
        "!pip install -Uqq fastbook"
      ],
      "execution_count": null,
      "outputs": []
    },
    {
      "cell_type": "code",
      "metadata": {
        "id": "kZtjBo7I2acE"
      },
      "source": [
        "import fastbook\n",
        "fastbook.setup_book()"
      ],
      "execution_count": null,
      "outputs": []
    },
    {
      "cell_type": "code",
      "metadata": {
        "id": "0G0VvkK62bdk"
      },
      "source": [
        "# fastbook 라이브러리에서 모든 도구들을 가져온다\n",
        "# fastai.viwison.widgets에서 모든 도구들을 가져온다.\n",
        "\n",
        "from fastbook import *\n",
        "from fastai.vision.widgets import *"
      ],
      "execution_count": null,
      "outputs": []
    },
    {
      "cell_type": "markdown",
      "metadata": {
        "id": "Y1ZxtIRk24eQ"
      },
      "source": [
        "### 데이터 수집하기\n",
        "\n",
        "* 항상 AI 모델 학습을 위해서는 AI 학습을 위한 데이터가 필요하다.\n",
        "* 그동안 우리가 사용했던 데이터는 선생님이 다운로드해서 찾거나 여러분들이 직접 찾아서 파일형태로 사용했는데\n",
        "* 이번에는 MS의 검색엔진인 Bing을 이용하여 \n",
        "* 이미지를 자동으로 수집하고 저장하는 과정을 진행해보자!"
      ]
    },
    {
      "cell_type": "code",
      "metadata": {
        "id": "kHB6CaML3GCG",
        "colab": {
          "base_uri": "https://localhost:8080/"
        },
        "outputId": "2baf202a-7f8b-4e67-96b3-a9fdd855916e"
      },
      "source": [
        "# bing에서 이미지를 검색할 수 있는 도구가 존재하는지 확인하기\n",
        "search_images_bing"
      ],
      "execution_count": null,
      "outputs": [
        {
          "output_type": "execute_result",
          "data": {
            "text/plain": [
              "<function fastbook.search_images_bing>"
            ]
          },
          "metadata": {},
          "execution_count": 21
        }
      ]
    },
    {
      "cell_type": "code",
      "metadata": {
        "id": "kOOdVUB33N2m",
        "colab": {
          "base_uri": "https://localhost:8080/"
        },
        "outputId": "29e23e5d-213a-466a-9e28-9e1b8b0126c8"
      },
      "source": [
        "#serach_image_ddg 함수를 사용하면 입력한 키워드에 따른 검색 이미지의 주소를 가져와 저장할 수 있다\n",
        "result1 = search_images_ddg('IU',max_images=100)\n",
        "result2 = search_images_ddg('cat',max_images=100)\n",
        "result3 = search_images_ddg('치킨',max_images=100)\n",
        "\n",
        "print(result3)\n",
        "print(len(result1))"
      ],
      "execution_count": null,
      "outputs": [
        {
          "output_type": "stream",
          "name": "stdout",
          "text": [
            "['https://i.ytimg.com/vi/HDH9YAAhLYI/maxresdefault.jpg', 'http://recipe1.ezmember.co.kr/cache/recipe/2017/08/02/ce64e1bf96084498fd2df8fae09870d91.jpg', 'https://3.bp.blogspot.com/-1o8QTFuxhAw/XG1iR8qI4tI/AAAAAAAAO9E/BhBIoxe1ov4vfw22I4P-N6gt5ZaUCoPcwCLcBGAs/s1600/20190209-IMG_6293.jpg', 'https://blog.kakaocdn.net/dn/ejsBxQ/btqHGT6BMBX/jPKkS4TuHxu8SSeO7o1mGk/img.jpg', 'https://t1.daumcdn.net/cfile/tistory/263E704F592FCE231D', 'https://img1.daumcdn.net/thumb/R800x0/?scode=mtistory2&fname=https:%2F%2Ft1.daumcdn.net%2Fcfile%2Ftistory%2F2514FA3F57A5940D03', 'https://img.siksinhot.com/place/1532677984992084.jpg', 'http://www.src3.com/uploads/bw1710002/202101/70d58c2eda858e2ed3022b1ab114f25c_crop.jpg?t=176d62172f3', 'https://img.insight.co.kr/static/2020/04/22/1200/v157h390sb27xg0tyw3e.jpg', 'https://t1.daumcdn.net/cfile/tistory/990D72395CF1D55033', 'https://t1.daumcdn.net/cfile/tistory/99CF4C3D5CA760062B', 'https://jc-one.co.kr/wp-content/uploads/2019/11/%EB%B0%98%EB%B0%98.jpg', 'https://t1.daumcdn.net/cfile/tistory/99C46E415D85857432', 'https://img.insight.co.kr/static/2017/11/06/2000/7iw5l6118hqig6o088m4.jpg', 'https://rereco.co/wp-content/uploads/2019/01/boor_menu.jpg', 'https://blog.kakaocdn.net/dn/bj8U8n/btqBXHb28Aw/h612rKA7Ozjq8xxCA3ZoJ0/img.png', 'https://img1.daumcdn.net/thumb/R800x0/?scode=mtistory2&fname=https:%2F%2Ft1.daumcdn.net%2Fcfile%2Ftistory%2F99980C415D27EF3E16', 'https://i.pinimg.com/736x/cf/69/50/cf6950eb6bd89e10661c0a94749594d9.jpg', 'http://cfile9.uf.tistory.com/image/99B5A8475A6BD930330934', 'https://img1.daumcdn.net/thumb/R800x0/?scode=mtistory2&fname=https:%2F%2Ft1.daumcdn.net%2Fcfile%2Ftistory%2F255C124B55BB2CCC0D', 'http://ejadam.co.kr/data/editor/1911/thumb-115d29e83422f2dd80a52cfdc9c35eee_1574733518_8442_1000x556.jpg', 'https://mp-seoul-image-production-s3.mangoplate.com/325492/479586_1497267044005_4358', 'https://t1.daumcdn.net/cfile/tistory/216F1D4258BAA61B0B', 'https://img.seoul.co.kr/img/upload/2015/10/05/SSI_20151005113013.jpg', 'https://t1.daumcdn.net/cfile/tistory/996E6E4A5EB4A5902A', 'https://data.ygosu.com/editor/attach/20200603/20200603025410_gwftuqoa.jpg', 'http://www.hoonipizza.co.kr/wp-content/uploads/2018/08/sideck01.png', 'https://t1.daumcdn.net/cfile/tistory/99F1C2495BC095C521', 'https://img.insight.co.kr/static/2017/11/07/2000/igb2g039mqqf7xr3zw08.jpg', 'http://recipe1.ezmember.co.kr/cache/recipe/2017/12/19/c0f3c991bd258fe8794d7ae442b9fc371.jpg', 'https://1.bp.blogspot.com/-zeYqrQNuKgc/W91bV7dODPI/AAAAAAAACMk/ze9G7wLVtaw-j05hFgSEnDzoxWKbukZsgCKgBGAs/s1600/20181102_220145.jpg', 'https://t1.daumcdn.net/cfile/tistory/998814435BE242C623', 'https://i.ytimg.com/vi/6UAAmi67ksI/maxresdefault.jpg', 'https://img.insight.co.kr/static/2018/02/03/700/0l706409n5w7r5h004r6.jpg', 'http://cfile29.uf.tistory.com/image/2204724D596637C8172692', 'https://blog.kakaocdn.net/dn/7I841/btqDhvI9r0c/mc6QhWCoXzZphWh0AOam6k/img.jpg', 'https://img1.daumcdn.net/thumb/R800x0/?scode=mtistory2&fname=https:%2F%2Ft1.daumcdn.net%2Fcfile%2Ftistory%2F992165355E3F6B463D', 'https://img.insight.co.kr/static/2019/03/08/1200/a6dln3podpsgjkn6j183.jpg', 'https://t1.daumcdn.net/cfile/tistory/263D4236587A2A5A21', 'https://ssproxy.ucloudbiz.olleh.com/v1/AUTH_e59809eb-bdc9-44d7-9d8f-2e7f0e47ba91/post_card/65116_thumb_1589876502.jpg', 'http://cdnweb01.wikitree.co.kr/webdata/editor/201905/12/201905121003095353.jpg', 'https://img.bbq.co.kr:449/uploads/bbq_d/pc/goldssbb1.png', 'https://www.newiki.net/w/images/thumb/f/f4/Deep_fried_chicken_pelicana.jpg/900px-Deep_fried_chicken_pelicana.jpg', 'http://cdnweb01.wikitree.co.kr/webdata/editor/201706/15/img_20170615205019_78080384.jpg', 'https://www.thinkfood.co.kr/news/photo/202005/87404_112911_1716.jpg', 'https://t1.daumcdn.net/cfile/tistory/99CCCA335A4AFF8A04', 'http://cfile27.uf.tistory.com/image/247B7B3B54E1A84D1E9F04', 'https://t1.daumcdn.net/cfile/tistory/99C9904E5BA38BC810', 'https://t1.daumcdn.net/cfile/tistory/27185A40573B386B0A', 'https://t1.daumcdn.net/cfile/tistory/26378936573DA51E1A', 'https://t1.daumcdn.net/cfile/tistory/2672CC3554912DE810', 'http://cfs11.blog.daum.net/image/33/blog/2008/11/20/01/04/49243911bb6df', 'https://t1.daumcdn.net/cfile/tistory/2223EC4F58EB97DC2C', 'http://cfile4.uf.tistory.com/image/270AF53F5873BC11124399', 'https://image.fmkorea.com/files/attach/new/20190427/3655304/14419697/1768991390/b64a661cef4bb0a9451dc6a60c2a0fb9.jpg', 'https://img.hankyung.com/photo/202001/01.21431114.1.jpg', 'https://foodfile.co.kr/_var/1512/1449050815587j__16x9.peg', 'https://mp-seoul-image-production-s3.mangoplate.com/598583_1508399628767652.jpg?fit=around%7C738:738&crop=738:738;*,*&output-format=jpg&output-quality=80', 'https://img1.daumcdn.net/thumb/R800x0/?scode=mtistory2&fname=https:%2F%2Ft1.daumcdn.net%2Fcfile%2Ftistory%2F995E903B5A61338016', 'https://img1.daumcdn.net/thumb/R800x0/?scode=mtistory2&fname=https:%2F%2Ft1.daumcdn.net%2Fcfile%2Ftistory%2F252BCE3B593A51B016', 'https://1.bp.blogspot.com/-riVMYT-JzPo/WXbxzc8E7EI/AAAAAAAAGqM/yyEpkWV3FpIezDf9qAL9y0fIn7OBJKX1ACKgBGAs/s1600/2017-07-25-08-36-58.jpg', 'http://cfile25.uf.tistory.com/image/245FF84658D68B28036610', 'https://img.insight.co.kr/static/2016/03/17/2000/hu460u8t6hso9p84016m.jpg', 'http://cdnweb01.wikitree.co.kr/webdata/editor/201903/20/img_20190320202619_7fe26bf2.jpg', 'https://t1.daumcdn.net/cfile/tistory/99194D4B5E537F9402', 'https://www.ok114.co.kr/pds/ok114/admn/bsninfo/20200717/thpylfutow.jpg', 'https://i.ytimg.com/vi/b3YsLd6O4io/maxresdefault.jpg', 'https://t1.daumcdn.net/liveboard/dailylife/4e4c630bcbf44b0a91aff381d78dd735.jpg', 'https://t1.daumcdn.net/cfile/tistory/99884F4E5C760F9D01', 'https://i.ytimg.com/vi/Ms9qsPVnokM/maxresdefault.jpg', 'https://img.bbq.co.kr:449/uploads/bbq_d/pc/chicken_gangjeong_0408.png', 'https://togodallas.com/wp-content/uploads/2020/12/CHICKEN-HOLIC-PHOTO001.jpg', 'https://t1.daumcdn.net/cfile/tistory/2536B347590034B90F', 'http://cfile4.uf.tistory.com/image/27681A3457EBB9F7278B95', 'https://t1.daumcdn.net/cfile/tistory/2441894E52D92CDB0A', 'https://img.insight.co.kr/static/2017/07/13/2000/3i2dlmgru88844k0q0f6.jpg', 'http://cfile9.uf.tistory.com/image/2367994057BDADFC1831A9', 'https://image.fmkorea.com/files/attach/new/20181120/3655304/1373495332/1397734572/800547df7910e088d345853f4aa4d128.jpeg', 'https://image.fmkorea.com/files/attach/new/20190513/3655304/8098870/1812199064/cd4262f3121d118b8b22f722b99ace9b.jpg', 'https://t1.daumcdn.net/cfile/tistory/99F34B3359F1F8472B', 'http://www.hoonipizza.co.kr/wp-content/uploads/2018/08/side-ck01.jpg', 'https://cdn.clien.net/web/api/file/F01/4895555/14e35e44b8f2467ea50.JPG?w=780&h=30000', 'https://i.ytimg.com/vi/FSM-YxPxbuA/maxresdefault.jpg', 'https://img1.daumcdn.net/thumb/R800x0/?scode=mtistory&fname=https%3A%2F%2Ft1.daumcdn.net%2Fcfile%2Ftistory%2F995724345B8EC39C04', 'https://homecuisine.co.kr/files/attach/images/140/816/067/cb5cc84feb63571c3c6486a8f7cb26e0.JPG', 'https://togodallas.com/wp-content/uploads/2018/05/Whole-Chicken_Golden-Original-Chicken.png', 'https://image.fmkorea.com/files/attach/new/20190821/3655304/1948935465/2111964596/1bf55516052b1d5a82a4338a5633ca4a.jpg', 'https://dcimg4.dcinside.co.kr/viewimage.php?id=2eb5d925eed736&no=24b0d769e1d32ca73fec85fa11d02831fae8bba18eb64771514f6f44622984dfe780244351f53a8e7620af660c85bcdf1d3b8fe4f5924ee452a938e2790bcf0f53ee653409e7b4ea3bd42103da9c61aaaaf7b87899', 'http://www.gamachi.co.kr/data/file/1503987965/3551210135_n68TBwMc_ec4135d1aa7aed5588cd9492877ccd2664d94aa4.jpg', 'http://cfile1.uf.tistory.com/image/998ACD3359DEDAF3145A18', 'http://newsroom.etomato.com/userfiles/alsltmxhqsjrpt.jpg', 'https://img1.daumcdn.net/thumb/R800x0/?scode=mtistory2&fname=https:%2F%2Ft1.daumcdn.net%2Fcfile%2Ftistory%2F2714144653F026A11F', 'https://t1.daumcdn.net/cfile/tistory/99075A4F5CA75D642D', 'https://mp-seoul-image-production-s3.mangoplate.com/keyword_search/meta/pictures/awy983sw26jztybr.png', 'https://img1.daumcdn.net/thumb/R800x0/?scode=mtistory2&fname=https:%2F%2Fblog.kakaocdn.net%2Fdn%2FcyqfQl%2FbtqFzG3oiZz%2FSjrkYj3GbPSsUpbXRrYpo0%2Fimg.jpg', 'https://t1.daumcdn.net/cfile/tistory/2761654D57D169FB0B', 'http://image.newdaily.co.kr/site/data/img/2021/01/15/2021011500074_0.jpg', 'http://cdnweb01.wikitree.co.kr/webdata/editor/201811/18/img_20181118174020_a82bc591.jpg', 'http://cfile2.uf.tistory.com/image/99DC563359A26F3220D445', 'http://cfile227.uf.daum.net/image/163EDD0B4A6486A96815DE']\n",
            "100\n"
          ]
        }
      ]
    },
    {
      "cell_type": "code",
      "metadata": {
        "id": "ohAoClk37exi"
      },
      "source": [
        "#download_url을 사용하면 (주소,'경로')를 통해 주소에 있는 이미지를 경로에 저장할 수 있다.\n",
        "#im을 활용하면 이미지를 열어 저장할 수 있고\n",
        "#크기를 지정한 후 \n",
        "#확인할 수 있다.\n",
        "#가로 세로 256 크기로 보이도록 \n",
        "\n",
        "for i in range(0,99):\n",
        "  download_url(result2[i],f'/content/gdrive/MyDrive/[프로그래밍]SDHS/CAT/CAT{i}.png')\n",
        "  im = Image.open('/content/gdrive/MyDrive/[프로그래밍]SDHS/CAT42.png')\n",
        "  im.thumbnail((256,256))\n",
        "  im"
      ],
      "execution_count": null,
      "outputs": []
    },
    {
      "cell_type": "code",
      "metadata": {
        "id": "tJ2bHvI57wKr"
      },
      "source": [
        "# 분류할 type을 key_types에 문자열로 저장한다.\n",
        "key_types = '고양이','아이유','치킨'\n",
        "# 드라이브에 사진을 저장할 기본 폴더를 만든 후 이를 경로로 지정한다\n",
        "path = Path('/content/gdrive/MyDrive/[프로그래밍]SDHS/AIpicture/')"
      ],
      "execution_count": null,
      "outputs": []
    },
    {
      "cell_type": "code",
      "metadata": {
        "id": "z4ZrHvyJ8Pl1",
        "colab": {
          "base_uri": "https://localhost:8080/"
        },
        "outputId": "41e3c184-6b8b-47c8-886d-6f131abeb697"
      },
      "source": [
        "# 설정한 경로에 폴더가 없으면 폴더를 만들고\n",
        "if not path.exists() :\n",
        "  path.mkdir() \n",
        "#o라는 이름으로 key_type을 돌면서\n",
        "  for o in key_types : \n",
        "    print(path, o) # 확인용\n",
        "    dest = (path/o) #각각의 키워드에 따라 사진을 저장할 폴더 경로\n",
        "    print(dest) # 확인용\n",
        "    dest.mkdir(exist_ok = True) #폴더가 없으면 폴더를 만들고 \n",
        "    results = search_images_ddg(o,max_images=100) #키워드에 해당하는 이미지 주소를 가져오고\n",
        "    download_images(dest, urls = results) #설정한 경로에 내용을 파일로 저장한다."
      ],
      "execution_count": null,
      "outputs": [
        {
          "output_type": "stream",
          "name": "stdout",
          "text": [
            "/content/gdrive/MyDrive/[프로그래밍]SDHS/AIpicture 고양이\n",
            "/content/gdrive/MyDrive/[프로그래밍]SDHS/AIpicture/고양이\n",
            "/content/gdrive/MyDrive/[프로그래밍]SDHS/AIpicture 아이유\n",
            "/content/gdrive/MyDrive/[프로그래밍]SDHS/AIpicture/아이유\n",
            "/content/gdrive/MyDrive/[프로그래밍]SDHS/AIpicture 치킨\n",
            "/content/gdrive/MyDrive/[프로그래밍]SDHS/AIpicture/치킨\n"
          ]
        }
      ]
    },
    {
      "cell_type": "code",
      "metadata": {
        "id": "WObZt0RQDNDw",
        "colab": {
          "base_uri": "https://localhost:8080/"
        },
        "outputId": "2c1cfc69-e199-4064-aeb2-a1e9699333de"
      },
      "source": [
        "#모든 사진파일 정보 확인\n",
        "fns = get_image_files(path)\n",
        "fns\n",
        "#왜 300개가 아닐까?"
      ],
      "execution_count": null,
      "outputs": [
        {
          "output_type": "execute_result",
          "data": {
            "text/plain": [
              "(#0) []"
            ]
          },
          "metadata": {},
          "execution_count": 26
        }
      ]
    },
    {
      "cell_type": "code",
      "metadata": {
        "id": "oYKQcfDlDiPU",
        "colab": {
          "base_uri": "https://localhost:8080/"
        },
        "outputId": "0e784423-6b25-4bcd-87fe-acb6b670e6d1"
      },
      "source": [
        "# 모든 사진파일의 경로가 들어있는 fns를 검증하여 실패한 사진의 경로만 따로 저장함\n",
        "failed = verify_images(fns)\n",
        "failed"
      ],
      "execution_count": null,
      "outputs": [
        {
          "output_type": "execute_result",
          "data": {
            "text/plain": [
              "(#0) []"
            ]
          },
          "metadata": {},
          "execution_count": 14
        }
      ]
    },
    {
      "cell_type": "code",
      "metadata": {
        "id": "Pjz0cuahFDsU"
      },
      "source": [
        "# 다운에 실패한 이밎의 위치를 Path에서 제거함\n",
        "failed.map(Path.unlink)"
      ],
      "execution_count": null,
      "outputs": []
    }
  ]
}