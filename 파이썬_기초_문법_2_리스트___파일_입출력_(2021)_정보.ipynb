{
  "nbformat": 4,
  "nbformat_minor": 0,
  "metadata": {
    "accelerator": "GPU",
    "colab": {
      "name": "파이썬 기초 문법 2  리스트 ~ 파일 입출력 (2021) 정보",
      "provenance": [],
      "collapsed_sections": []
    },
    "kernelspec": {
      "display_name": "Python 3",
      "name": "python3"
    },
    "language_info": {
      "codemirror_mode": {
        "name": "ipython",
        "version": 3
      },
      "file_extension": ".py",
      "mimetype": "text/x-python",
      "name": "python",
      "nbconvert_exporter": "python",
      "pygments_lexer": "ipython3",
      "version": "3.7.1"
    }
  },
  "cells": [
    {
      "cell_type": "markdown",
      "metadata": {
        "id": "IePeTe0bq6E7"
      },
      "source": [
        "## 8. 리스트(list)\n",
        "- 동적 배열(dynamic array) - 필요에 따라 여러개의 값을 저장할 수 있는 공간\n",
        "- 모든 자료형을 저장할 수 있으며, 자로형을 섞어서 저장해도 됨\n",
        "- $[ ]$ 로 감싸서 사용함\n",
        "- a=[1,2,3]\n",
        "- b=[ ]\n",
        "- c=[[1,2,3],[4,5,6]]"
      ]
    },
    {
      "cell_type": "code",
      "metadata": {
        "id": "5rhQsvLurMP_",
        "colab": {
          "base_uri": "https://localhost:8080/"
        },
        "outputId": "fd405afa-a2d3-46e3-8ef5-7f634ef8077f"
      },
      "source": [
        "# [Shift+Enter]를 누르세요.\n",
        "\n",
        "# a 리스트 만들기 \n",
        "a=[1,3,5,7,9]\n",
        "# a 리스트 출력하기\n",
        "print(a)\n",
        "# 3번째 데이터 출력하기\n",
        "print(a[2])"
      ],
      "execution_count": null,
      "outputs": [
        {
          "output_type": "stream",
          "name": "stdout",
          "text": [
            "[1, 3, 5, 7, 9]\n",
            "5\n"
          ]
        }
      ]
    },
    {
      "cell_type": "code",
      "metadata": {
        "id": "H3UWWcZ0rTQq",
        "colab": {
          "base_uri": "https://localhost:8080/"
        },
        "outputId": "57fcec6a-3c32-4bc8-de7c-0e9817df2840"
      },
      "source": [
        "#(문제) b=[1, 4, 7, 10] 출력하기 : list, range를 이용하세요.\n",
        "b = list(range(1,100,3))\n",
        "print(b)\n"
      ],
      "execution_count": null,
      "outputs": [
        {
          "output_type": "stream",
          "name": "stdout",
          "text": [
            "[1, 4, 7, 10, 13, 16, 19, 22, 25, 28, 31, 34, 37, 40, 43, 46, 49, 52, 55, 58, 61, 64, 67, 70, 73, 76, 79, 82, 85, 88, 91, 94, 97]\n"
          ]
        }
      ]
    },
    {
      "cell_type": "code",
      "metadata": {
        "id": "KqcHG7VyCnfH",
        "colab": {
          "base_uri": "https://localhost:8080/"
        },
        "outputId": "98bb7d33-86c6-45da-8698-1d09f7fc68c4"
      },
      "source": [
        "# (문제) 리스트 안의 리스트 만들고 리스트 값 출력 및 삭제\n",
        "\n",
        "lst = []\n",
        "\n",
        "# append  끝에서부터 추가 됨\n",
        "\n",
        "lst.append([1, '홍길동'])\n",
        "lst.append([2, '장길산'])\n",
        "lst.append([3, '전우치'])\n",
        "\n",
        "print(lst)\n",
        "\n",
        "print(lst[2])\n",
        "print(lst[2][1])\n",
        "\n",
        "# pop 끝에서부터 제거 됨 \n",
        "\n",
        "lst.pop()\n",
        "print(lst)\n"
      ],
      "execution_count": null,
      "outputs": [
        {
          "output_type": "stream",
          "name": "stdout",
          "text": [
            "[[1, '홍길동'], [2, '장길산'], [3, '전우치']]\n",
            "[3, '전우치']\n",
            "전우치\n",
            "[[1, '홍길동'], [2, '장길산']]\n"
          ]
        }
      ]
    },
    {
      "cell_type": "code",
      "metadata": {
        "id": "PSi0M5ZV4qds",
        "colab": {
          "base_uri": "https://localhost:8080/"
        },
        "outputId": "ab1abee8-7001-4a2d-d58e-2a197248d61d"
      },
      "source": [
        "# 원하는 위치에 집어넣기\n",
        "\n",
        "lst.insert(1,[2,'로빈 후드'])\n",
        "print(lst)\n"
      ],
      "execution_count": null,
      "outputs": [
        {
          "output_type": "stream",
          "name": "stdout",
          "text": [
            "[[1, '홍길동'], [2, '로빈 후드'], [2, '장길산']]\n"
          ]
        }
      ]
    },
    {
      "cell_type": "code",
      "metadata": {
        "id": "i9AAh9tN4whP",
        "colab": {
          "base_uri": "https://localhost:8080/"
        },
        "outputId": "9d6b0ebd-a4d9-4ecc-ab61-1e6ec8e4e740"
      },
      "source": [
        "# 리스트 값 수정하기\n",
        "\n",
        "lst[2][0]=3\n",
        "print(lst)"
      ],
      "execution_count": null,
      "outputs": [
        {
          "output_type": "stream",
          "name": "stdout",
          "text": [
            "[[1, '홍길동'], [2, '로빈 후드'], [3, '장길산']]\n"
          ]
        }
      ]
    },
    {
      "cell_type": "code",
      "metadata": {
        "id": "s6UHporq4ySr",
        "colab": {
          "base_uri": "https://localhost:8080/"
        },
        "outputId": "239284a9-b328-4d5f-e464-dc87d5e4442e"
      },
      "source": [
        "# 특정 위치 값 삭제하기\n",
        "\n",
        "del lst[0]\n",
        "print(lst)"
      ],
      "execution_count": null,
      "outputs": [
        {
          "output_type": "stream",
          "name": "stdout",
          "text": [
            "[[2, '로빈 후드'], [3, '장길산']]\n"
          ]
        }
      ]
    },
    {
      "cell_type": "markdown",
      "metadata": {
        "id": "zrbPCRjhIdIT"
      },
      "source": [
        "## 9. 함수(function) \n",
        "\n",
        "### 함수 : 입력이 있으면 출력이 있다. (자판기)\n",
        "- 내가 자판기에 1000원을 넣으면\n",
        "- 음료수를 고른 후 음료수와 거스름돈이 나온다\n",
        "\n",
        "### 내장함수(built-in function) \n",
        "- 파이썬에서 이미 만들어 놓은 함수\n",
        "- max(), min(), int(), len()\n",
        "\n",
        "### 메소드, 메서드(method) \n",
        "- 특정 자료형이 가지고 있는 자료형 안의 함수\n",
        "- lst2.sort(), 리스트를 오름차순 정렬 \n",
        "- lst2.sort(reverse=1), 리스트를 내림차순 정렬\n",
        "\n",
        "### 사용자 정의 함수(user-defined function)\n",
        "- def 키워드로 함수 정의함\n",
        "- return-type 없음 "
      ]
    },
    {
      "cell_type": "code",
      "metadata": {
        "id": "xuvxOixIDyE6",
        "colab": {
          "base_uri": "https://localhost:8080/"
        },
        "outputId": "1e4417c3-055e-43fb-8f46-6a3de863b2c7"
      },
      "source": [
        "# (문제) 파이썬에서 만들어놓은 함수는 함수의 이름을 쓰고 ()안에 입력값을 집어넣으면 된다\n",
        "\n",
        "lst2 = [1,2,3,4,5,6,7,8,9,10,100,200,-45,50]\n",
        "lst3 = [1,2,4,8,16,32,64,128,256,512]\n",
        "\n",
        "print(max(lst2)) #최대값\n",
        "print(min(lst2)) #최소값\n",
        "print(len(lst3)) #크기 \n",
        "\n"
      ],
      "execution_count": null,
      "outputs": [
        {
          "output_type": "stream",
          "name": "stdout",
          "text": [
            "200\n",
            "-45\n",
            "10\n"
          ]
        }
      ]
    },
    {
      "cell_type": "code",
      "metadata": {
        "id": "Ima_16YP4-pe",
        "colab": {
          "base_uri": "https://localhost:8080/"
        },
        "outputId": "c9cd64f4-fc4c-4dd5-c0c6-9993d7d60f13"
      },
      "source": [
        "# (문제) 리스트안에 들어있는 내장함수인 메소드 사용 정렬 \n",
        "lst2.sort()\n",
        "print(lst2)\n"
      ],
      "execution_count": null,
      "outputs": [
        {
          "output_type": "stream",
          "name": "stdout",
          "text": [
            "[-45, 1, 2, 3, 4, 5, 6, 7, 8, 9, 10, 50, 100, 200]\n"
          ]
        }
      ]
    },
    {
      "cell_type": "code",
      "metadata": {
        "id": "fQtW1wtJ5Az6",
        "colab": {
          "base_uri": "https://localhost:8080/"
        },
        "outputId": "942183fc-15d8-4dbd-cb99-d5451b97bb58"
      },
      "source": [
        "# (문제) 리스트안에 들어있는 내장함수인 메소드 사용 정렬 \n",
        "lst3.sort(reverse=1)\n",
        "print(lst3)"
      ],
      "execution_count": null,
      "outputs": [
        {
          "output_type": "stream",
          "name": "stdout",
          "text": [
            "[512, 256, 128, 64, 32, 16, 8, 4, 2, 1]\n"
          ]
        }
      ]
    },
    {
      "cell_type": "code",
      "metadata": {
        "id": "pPSh5VtlIePQ",
        "colab": {
          "base_uri": "https://localhost:8080/"
        },
        "outputId": "4c027dfc-31bf-46e1-bc51-3da6739e2ed7"
      },
      "source": [
        "# 1부터 n까지의 곱을 출력한다 (팩토리얼) - 사용자 정의 함수\n",
        "\n",
        "import sys\n",
        "sys.setrecursionlimit(1000000) #재귀의 한도를 풀어줌\n",
        "\n",
        "def f(n): # 함수 f를 정의하며 입력값은 n이다.\n",
        "  if n>1: #만약 n이 1보다 크면\n",
        "    return n*f(n-1) #n과 n-1의 f값을 돌려준다.\n",
        "  else:\n",
        "    return n #만약 n이 1이하면 자신을 그대로 돌려준다 \n",
        "\n",
        "n=int(input())\n",
        "print(\"%d\" %f(n)) #두번째 %뒤에 있는 값을 %d <- 정수 값으로 출력해준다\n",
        "print(f\"결과값 : {f(n)}\")\n"
      ],
      "execution_count": null,
      "outputs": [
        {
          "output_type": "stream",
          "name": "stdout",
          "text": [
            "445\n",
            "960531712200555374652216006820588699975965753736404569764059434185218703970814110509823620714809795811754359490879474403188201585788056499325812550696600565617790648921564510394186296524814097981131675675450216942426185513461770591564734663959733592883760383903706078629138937380912962430889195602415497737731019129186023906165704109056711401332015206086200652761092664174443620510834098191447188718414657835291647104257986192825685544439994406128496484711466435645871484485795362338161031419271519618615079950904826522433261636146785536560109458877512345294783205411433587588861804638820709292603165031275866395191044559647556372684047989546968245014508515296208601229005459858479940204695048345842217797377660681325893344621698873472788943114213545946269748187762254080911887460030594308947176850087254781422901354323873493084535072029623261452081594104066286966799292809871360000000000000000000000000000000000000000000000000000000000000000000000000000000000000000000000000000000000000\n",
            "결과값 : 960531712200555374652216006820588699975965753736404569764059434185218703970814110509823620714809795811754359490879474403188201585788056499325812550696600565617790648921564510394186296524814097981131675675450216942426185513461770591564734663959733592883760383903706078629138937380912962430889195602415497737731019129186023906165704109056711401332015206086200652761092664174443620510834098191447188718414657835291647104257986192825685544439994406128496484711466435645871484485795362338161031419271519618615079950904826522433261636146785536560109458877512345294783205411433587588861804638820709292603165031275866395191044559647556372684047989546968245014508515296208601229005459858479940204695048345842217797377660681325893344621698873472788943114213545946269748187762254080911887460030594308947176850087254781422901354323873493084535072029623261452081594104066286966799292809871360000000000000000000000000000000000000000000000000000000000000000000000000000000000000000000000000000000000000\n"
          ]
        }
      ]
    },
    {
      "cell_type": "code",
      "metadata": {
        "id": "SmDcm7XU6BzO"
      },
      "source": [
        "# 2개의 값이 들어오면 사칙 연산 계산해주는 함수 만들기\n",
        "# v1, v2는 \"특정값\"이 아니라 \"들어오는 값의 이름을 나타낸다\"\n",
        "\n",
        "def plus(v1,v2):\n",
        "  return v1+v2\n",
        "\n",
        "def minus(v1,v2):\n",
        "  return v1-v2\n",
        "\n",
        "def cross(v1,v2):\n",
        "  return v1*v2\n",
        "\n",
        "def divid(v1,v2):\n",
        "  return v1/v2\n"
      ],
      "execution_count": null,
      "outputs": []
    },
    {
      "cell_type": "code",
      "metadata": {
        "id": "-h7tl_-Y6veW",
        "colab": {
          "base_uri": "https://localhost:8080/"
        },
        "outputId": "7ee943dc-7845-41b2-c949-fc6a02232d57"
      },
      "source": [
        "a,b = map(int,input().split(\",\"))\n",
        "\n",
        "print(plus(a,b))\n",
        "print(minus(a,b))\n",
        "print(cross(a,b))\n",
        "print(divid(a,b))\n",
        "\n",
        "\n",
        "#print(f\"두 수의 합은 : {plus(a,b)}입니다.\")\n",
        "#\n",
        "#\n",
        "#\n"
      ],
      "execution_count": null,
      "outputs": [
        {
          "output_type": "stream",
          "name": "stdout",
          "text": [
            "90,-2\n",
            "88\n",
            "92\n",
            "-180\n",
            "-45.0\n"
          ]
        }
      ]
    },
    {
      "cell_type": "markdown",
      "metadata": {
        "id": "mhlxttZjJt7R"
      },
      "source": [
        "## 10. 모듈(module) - 라이브러리\n",
        "### 개념\n",
        "- 서로 연관된 작업을 하는 코드들의 모임\n",
        "- 프로그래밍을 하는데 필요한 도구들\n",
        "\n",
        "   - 표준 모듈 : 파이썬 안에 포함된 모듈 ( 예 : math, random) <br>\n",
        "   - 3'rd party module : 외부에서 만들어서 제공하는 모듈 ( 예 : numpy, matplotlib) -> 이 친구들은 따로 설치해주는 것이 필요함 (예 : 한글 글씨체, Konlpy 등) <br>\n",
        "\n",
        "### 모듈 사용방법\n",
        "- import 모듈명  : 모듈 불러오기\n",
        "- 모듈명.함수() : 모듈안에 저장된 함수 호출하기\n",
        "- 모듈명.변수 : 모듈안에 저장된 변수 호출"
      ]
    },
    {
      "cell_type": "code",
      "metadata": {
        "id": "fhHrBkerJxIg"
      },
      "source": [
        "# math module 불러오기 -> [Shift+Enter]를 누르세요.\n",
        "import math\n",
        "\n",
        "#문제 (3, 15) 최대공약수 구하기\n",
        "print(math.gcd(,))\n",
        "\n",
        "#문제 (3, 15) 최소공배수 구하기 (두 수를 곱한 후 최대공약수로 나누기)\n",
        "import math\n",
        "print((*)/math.gcd(,))\n"
      ],
      "execution_count": null,
      "outputs": []
    },
    {
      "cell_type": "markdown",
      "metadata": {
        "id": "6tedXy47K2eX"
      },
      "source": [
        "## 11. File Input/Output\n",
        "### File I/O\n",
        "- 파일객체 = open(\"파일명\",\"형식\")\n",
        "- 파일객체.close()\n",
        "  - 형식 : \"r\" : 읽기, \"w\" : 쓰기, \"a\" : 추가하기\n",
        "\n",
        "- 파일 읽기\n",
        "  - readlines() : 한줄씩 읽어서 리스트 원소로 들어감.\n",
        "  - readline() : 한 줄 읽고 \\n나오면 끝남.\n",
        "  \n",
        "- 파일객체.writelines(문자열리스트)\n",
        "  - 리스트에 있는 모든 문자열 쓰기 \n",
        "  - 문자열 리스트에 개행문자(\"\\n\")가 없으면 1줄로 붙어서 저장됨 \n",
        "  \n",
        "- 문자열.strip('\\n') : \\n을 삭제함. "
      ]
    },
    {
      "cell_type": "code",
      "metadata": {
        "id": "4OsmbImGK4fi"
      },
      "source": [
        "from google.colab import drive\n",
        "drive.mount('/content/gdrive')\n",
        " \n",
        "# 자기 자신의 구글 드라이브에 접근할 수 있는 권한 (이 코드가 있어야 파일 입출력을 자유롭게 할 수 있음.)"
      ],
      "execution_count": null,
      "outputs": []
    },
    {
      "cell_type": "code",
      "metadata": {
        "id": "L43mTY9jK5nV"
      },
      "source": [
        "# data 리스트 만들기\n",
        "data = [\"10\\n\", \"20\\n\", \"30\\n\", \"40\\n\", \"50\\n\"]\n",
        " \n",
        "#(문제) 파일 만들기 : test.txt (쓰기 모드)\n",
        "f = open(\"\",\"w\")\n",
        " \n",
        "#(문제) 파일에 data 넣기\n",
        "f.writelines(data)\n",
        " \n",
        "# 파일 닫기\n",
        "f.close()"
      ],
      "execution_count": null,
      "outputs": []
    },
    {
      "cell_type": "code",
      "metadata": {
        "id": "M-4Nq_xwK6ep"
      },
      "source": [
        "#(문제) 파일 열기 : test.txt (읽기 모드)\n",
        "f = open(\"\",\"r\")\n",
        "\n",
        "#파일안에 있는 데이터를 읽어서 리스트(result)에 저장하기 \n",
        "result = f.readlines()\n",
        "\n",
        "# result 출력하기\n",
        "print(result)\n",
        "\n",
        "# 출력결과처럼 나오게 코드 작성해 보세요. \n",
        "# 단 '\\n'은 삭제하고, result에 저장된 데이터는 실수형으로 바꿔주세요.\n",
        "\n",
        "ans = [float(i.strip('\\n')) for i in result]\n",
        "\n",
        "print(ans)"
      ],
      "execution_count": null,
      "outputs": []
    }
  ]
}